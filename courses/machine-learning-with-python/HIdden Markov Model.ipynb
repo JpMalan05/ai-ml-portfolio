{
 "cells": [
  {
   "cell_type": "markdown",
   "id": "68255e00",
   "metadata": {},
   "source": [
    "# Hidden Markov Model\n",
    "\n",
    "The hidden markov model is a **pobabilistic relationship between a sequence of observations and a sequence of hidden states**. \n",
    "\n",
    "The relationship between observations and the hidden states is modeled using a **probability distribution**. \n",
    "\n",
    "There are two probabilities:\n",
    "    -The **transition probabilities** describe the probability of *transitioning* from one hidden state to another\n",
    "    -The **emission probabilities** describe the probability of observing an output given a hidden state\n",
    "\n",
    "Hidden Markov Model  Algorithm\n",
    "The Hidden Markov Model (HMM) algorithm can be implemented using the following steps:\n",
    "\n",
    "*Step 1:* Define the state space and observation space: The state space is the set of all possible hidden states, and the observation space is the set of all possible observations.\n",
    "\n",
    "*Step 2:* Define the initial state distribution: This is the probability distribution over the initial state.\n",
    "\n",
    "*Step 3:* Define the state transition probabilities: These are the probabilities of transitioning from one state to another. This forms the transition matrix, which describes the probability of moving from one state to another.\n",
    "\n",
    "*Step 4:* Define the observation likelihoods: These are the probabilities of generating each observation from each state. This forms the emission matrix, which describes the probability of generating each observation from each state.\n",
    "\n",
    "*Step 5:* Train the model: The parameters of the state transition probabilities and the observation likelihoods are estimated using the Baum-Welch algorithm, or the forward-backward algorithm. This is done by iteratively updating the parameters until convergence.\n",
    "\n",
    "*Step 6:* Decode the most likely sequence of hidden states: Given the observed data, the Viterbi algorithm is used to compute the most likely sequence of hidden states. This can be used to predict future observations, classify sequences, or detect patterns in sequential data.\n",
    "\n",
    "*Step 7:* Evaluate the model: The performance of the HMM can be evaluated using various metrics, such as accuracy, precision, recall, or F1 score.\n",
    "\n",
    "**Summary** - The HMM algorithm involves defining the state space, observation space and the parameters of the state trsnsition probabilities and observation likelihoods, training the model using the Baum-Welch algorithm or the forward-backward algorithm, decoding the most likely spequence of hiden states using the Viterbi algorithm, and evaluting the performance of the model"
   ]
  },
  {
   "cell_type": "code",
   "execution_count": 1,
   "id": "e0ad4217",
   "metadata": {},
   "outputs": [],
   "source": [
    "import numpy as np\n",
    "import matplotlib.pyplot as plt\n",
    "import seaborn as sns\n",
    "from hmmlearn import hmm"
   ]
  },
  {
   "cell_type": "code",
   "execution_count": 8,
   "id": "4fe7e641",
   "metadata": {},
   "outputs": [
    {
     "name": "stdout",
     "output_type": "stream",
     "text": [
      "Number of hidden states: 2\n",
      "Number of observations: 2\n"
     ]
    }
   ],
   "source": [
    "#Define the model parameters\n",
    "#State space is a list of possible weather condition\n",
    "states = [\"Sunny\",\"Rainy\"]\n",
    "n_states = len(states)\n",
    "print(f\"Number of hidden states: {n_states}\")\n",
    "\n",
    "#The observation space is defined as observations which is a list of two possible observations\n",
    "observations = [\"Dry\",\"Wet\"]\n",
    "n_observations = len(observations)\n",
    "print(f\"Number of observations: {n_observations}\")"
   ]
  },
  {
   "cell_type": "code",
   "execution_count": 9,
   "id": "3bbc4b51",
   "metadata": {},
   "outputs": [
    {
     "name": "stdout",
     "output_type": "stream",
     "text": [
      "State probability:  [0.6 0.4]\n",
      "\n",
      "Transition probability:\n",
      " [[0.7 0.3]\n",
      " [0.3 0.7]]\n",
      "\n",
      "Emission probability:\n",
      " [[0.9 0.1]\n",
      " [0.2 0.8]]\n"
     ]
    }
   ],
   "source": [
    "#The State, transition and emission probabilities are defined as numpy arrays. \n",
    "#The state probabilities are the starting probability of each state\n",
    "state_probability = np.array([0.6,0.4])\n",
    "print('State probability: ',state_probability)\n",
    "\n",
    "#The transition probabilities represent the probability of transitioning from one hidden state to another\n",
    "transition_probability = np.array([[0.7, 0.3],\n",
    "                                   [0.3, 0.7]])\n",
    "print(\"\\nTransition probability:\\n\", transition_probability)\n",
    "\n",
    "#The emission probability represents the probability of observing each of rhe outputs given a hidden state\n",
    "emission_probability= np.array([[0.9, 0.1],\n",
    "                                 [0.2, 0.8]])\n",
    "print(\"\\nEmission probability:\\n\", emission_probability)"
   ]
  },
  {
   "cell_type": "code",
   "execution_count": 11,
   "id": "a10ebd3f",
   "metadata": {},
   "outputs": [],
   "source": [
    "#Create an instane of the HMM model and set the model parameters\n",
    "\n",
    "model = hmm.CategoricalHMM(n_components=n_states) \n",
    "model.startprob_ = state_probability\n",
    "model.transmat_= transition_probability\n",
    "model.emissionprob_ = emission_probability"
   ]
  },
  {
   "cell_type": "code",
   "execution_count": 12,
   "id": "c82ca4d9",
   "metadata": {},
   "outputs": [
    {
     "data": {
      "text/plain": [
       "array([[0],\n",
       "       [1],\n",
       "       [0],\n",
       "       [1],\n",
       "       [0],\n",
       "       [0]])"
      ]
     },
     "execution_count": 12,
     "metadata": {},
     "output_type": "execute_result"
    }
   ],
   "source": [
    "#Define an observation sequence\n",
    "\n",
    "observations_sequence = np.array([0, 1, 0, 1, 0, 0]).reshape(-1, 1)\n",
    "observations_sequence"
   ]
  },
  {
   "cell_type": "code",
   "execution_count": 13,
   "id": "6f18f0d5",
   "metadata": {},
   "outputs": [
    {
     "name": "stdout",
     "output_type": "stream",
     "text": [
      "Most likely hidden states:  [0 1 1 1 0 0]\n"
     ]
    }
   ],
   "source": [
    "#Predict the modt likely sequence of hidden states\n",
    "\n",
    "hidden_states = model.predict(observations_sequence)\n",
    "print('Most likely hidden states: ',hidden_states)"
   ]
  },
  {
   "cell_type": "code",
   "execution_count": 15,
   "id": "b6da7751",
   "metadata": {},
   "outputs": [
    {
     "name": "stdout",
     "output_type": "stream",
     "text": [
      "Log Probability : -6.360602626270058\n",
      "Most likely hidden states: [0 1 1 1 0 0]\n"
     ]
    }
   ],
   "source": [
    "#Decoding the observation sequence\n",
    "#The Vetirbi algorithm is used to calculate the most likely sequence of hidden states that generated the observations using the decode method of the model.\n",
    "#The model returns the log probability of the most likely sequence of hidden states and the sequence of hidden states itself\n",
    "\n",
    "log_prob, hidden_states = model.decode(observations_sequence,lengths=len(observations_sequence),algorithm='viterbi')\n",
    "\n",
    "print('Log Probability :',log_prob)\n",
    "print(\"Most likely hidden states:\", hidden_states)"
   ]
  },
  {
   "cell_type": "code",
   "execution_count": 17,
   "id": "6d58a78d",
   "metadata": {},
   "outputs": [
    {
     "data": {
      "image/png": "[encoded data removed]",
      "text/plain": [
       "<Figure size 640x480 with 1 Axes>"
      ]
     },
     "metadata": {},
     "output_type": "display_data"
    }
   ],
   "source": [
    "#Plot the results\n",
    "\n",
    "sns.set_style(\"whitegrid\")\n",
    "plt.plot(hidden_states, '-o', label=\"Hidden State\")\n",
    "plt.xlabel('Time step')\n",
    "plt.ylabel('Most Likely Hidden State')\n",
    "plt.title(\"Sunny or Rainy\")\n",
    "plt.legend()\n",
    "plt.show()\n",
    "\n",
    "#The plot shows that the model predicts that the weather is mostly sunny, with a few rainy days mixed in."
   ]
  },
  {
   "cell_type": "markdown",
   "id": "45a58106",
   "metadata": {},
   "source": [
    "# Speech recognition example using HMM\n",
    "\n",
    "## Problem statement: Given a dataset of audio recordings, the task is to recognize the words spoken in the recordings.\n",
    "\n",
    "In this example, the state space is defined as states, which is a list of 4 possible states representing silence or the presence of one of 3 different words. The observation space is defined as observations, which is a list of 2 possible observations, representing the volume of the speech. The initial state distribution is defined as start_probability, which is an array of probabilities of length 4 representing the probability of each state being the initial state.\n",
    "\n",
    "The state transition probabilities are defined as transition_probability, which is a 4x4 matrix representing the probability of transitioning from one state to another. The observation likelihoods are defined as emission_probability, which is a 4x2 matrix representing the probability of emitting an observation for each state.\n",
    "\n",
    "The model is defined using the MultinomialHMM class from hmmlearn library and is fit using the startprob_, transmat_, and emissionprob_ attributes. The sequence of observations is defined as observations_sequence and is an array of length 8, representing the volume of the speech in 8 different time steps.\n",
    "\n",
    "The predict method of the model object is used to predict the most likely hidden states, given the observations. The result is stored in the hidden_states variable, which is an array of length 8, representing the most likely state for each time step."
   ]
  },
  {
   "cell_type": "code",
   "execution_count": 18,
   "id": "31c02b9e",
   "metadata": {},
   "outputs": [],
   "source": [
    "import numpy as np\n",
    "import matplotlib.pyplot as plt\n",
    "import seaborn as sns\n",
    "from hmmlearn import hmm\n",
    "\n",
    "\n",
    "states = [\"Silence\", \"Word1\", \"Word2\", \"Word3\"]\n",
    "n_states = len(states)\n",
    "\n",
    "observations = [\"Loud\", \"Soft\"]\n",
    "n_observations = len(observations)"
   ]
  },
  {
   "cell_type": "code",
   "execution_count": 19,
   "id": "20ab9df7",
   "metadata": {},
   "outputs": [],
   "source": [
    "start_probability = np.array([0.8, 0.1, 0.1, 0.0])\n",
    "\n",
    "transition_probability = np.array([[0.7, 0.2, 0.1, 0.0],\n",
    "                                    [0.0, 0.6, 0.4, 0.0],\n",
    "                                    [0.0, 0.0, 0.6, 0.4],\n",
    "                                    [0.0, 0.0, 0.0, 1.0]])\n",
    "\n",
    "emission_probability = np.array([[0.7, 0.3],\n",
    "                                  [0.4, 0.6],\n",
    "                                  [0.6, 0.4],\n",
    "                                  [0.3, 0.7]])"
   ]
  },
  {
   "cell_type": "code",
   "execution_count": 20,
   "id": "6be26dd7",
   "metadata": {},
   "outputs": [],
   "source": [
    "model = hmm.CategoricalHMM(n_components=n_states)\n",
    "model.startprob_ = start_probability\n",
    "model.transmat_ = transition_probability\n",
    "model.emissionprob_ = emission_probability"
   ]
  },
  {
   "cell_type": "code",
   "execution_count": 21,
   "id": "1082ec8c",
   "metadata": {},
   "outputs": [],
   "source": [
    "observations_sequence = np.array([0, 1, 0, 0, 1, 1, 0, 1]).reshape(-1, 1)"
   ]
  },
  {
   "cell_type": "code",
   "execution_count": null,
   "id": "787c62bf",
   "metadata": {},
   "outputs": [],
   "source": [
    "hidden_states = model.predict(observations_sequence)\n",
    "print(\"Most likely hidden states:\", hidden_states)"
   ]
  },
  {
   "cell_type": "code",
   "execution_count": 22,
   "id": "5dadae2b",
   "metadata": {},
   "outputs": [
    {
     "data": {
      "image/png": "[encoded data removed]",
      "text/plain": [
       "<Figure size 640x480 with 1 Axes>"
      ]
     },
     "metadata": {},
     "output_type": "display_data"
    }
   ],
   "source": [
    "sns.set_style(\"darkgrid\")\n",
    "plt.plot(hidden_states, '-o', label=\"Hidden State\")\n",
    "plt.legend()\n",
    "plt.show()"
   ]
  },
  {
   "cell_type": "markdown",
   "id": "b0f3f361",
   "metadata": {},
   "source": []
  },
  {
   "cell_type": "markdown",
   "id": "8945228e",
   "metadata": {},
   "source": [
    "#"
   ]
  },
  {
   "cell_type": "markdown",
   "id": "e64f4661",
   "metadata": {},
   "source": []
  },
  {
   "cell_type": "markdown",
   "id": "8ffded37",
   "metadata": {},
   "source": []
  },
  {
   "cell_type": "markdown",
   "id": "59f86486",
   "metadata": {},
   "source": []
  },
  {
   "cell_type": "markdown",
   "id": "27ed183e",
   "metadata": {},
   "source": []
  },
  {
   "cell_type": "markdown",
   "id": "75461286",
   "metadata": {},
   "source": []
  },
  {
   "cell_type": "markdown",
   "id": "fd1e976c",
   "metadata": {},
   "source": []
  },
  {
   "cell_type": "markdown",
   "id": "e47aa2ab",
   "metadata": {},
   "source": []
  },
  {
   "cell_type": "markdown",
   "id": "3c2df3ab",
   "metadata": {},
   "source": []
  },
  {
   "cell_type": "markdown",
   "id": "50354653",
   "metadata": {},
   "source": []
  },
  {
   "cell_type": "markdown",
   "id": "0835e847",
   "metadata": {},
   "source": []
  },
  {
   "cell_type": "markdown",
   "id": "0419db3c",
   "metadata": {},
   "source": []
  },
  {
   "cell_type": "markdown",
   "id": "15245ee3",
   "metadata": {},
   "source": []
  },
  {
   "cell_type": "markdown",
   "id": "eb80a3b0",
   "metadata": {},
   "source": []
  },
  {
   "cell_type": "markdown",
   "id": "4a147763",
   "metadata": {},
   "source": []
  },
  {
   "cell_type": "markdown",
   "id": "f822cb83",
   "metadata": {},
   "source": []
  },
  {
   "cell_type": "markdown",
   "id": "cbedb18b",
   "metadata": {},
   "source": []
  },
  {
   "cell_type": "markdown",
   "id": "cd0d505e",
   "metadata": {},
   "source": []
  },
  {
   "cell_type": "markdown",
   "id": "53105287",
   "metadata": {},
   "source": []
  },
  {
   "cell_type": "markdown",
   "id": "cb7007cc",
   "metadata": {},
   "source": []
  },
  {
   "cell_type": "markdown",
   "id": "e8d1f32e",
   "metadata": {},
   "source": []
  },
  {
   "cell_type": "markdown",
   "id": "cfaab604",
   "metadata": {},
   "source": []
  }
 ],
 "metadata": {
  "kernelspec": {
   "display_name": "Python 3",
   "language": "python",
   "name": "python3"
  },
  "language_info": {
   "codemirror_mode": {
    "name": "ipython",
    "version": 3
   },
   "file_extension": ".py",
   "mimetype": "text/x-python",
   "name": "python",
   "nbconvert_exporter": "python",
   "pygments_lexer": "ipython3",
   "version": "3.9.6"
  }
 },
 "nbformat": 4,
 "nbformat_minor": 5
}
