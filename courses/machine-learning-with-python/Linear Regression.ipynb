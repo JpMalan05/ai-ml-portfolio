{
 "cells": [
  {
   "cell_type": "markdown",
   "id": "ecebcc51",
   "metadata": {},
   "source": [
    "# Linear Regression\n",
    "\n",
    "### This file is a setup and explanitory notes for Linear Regression Models:\n",
    "\n",
    "Linear regression is a basic ML model used to predict numeric values"
   ]
  },
  {
   "cell_type": "markdown",
   "id": "4d74977c",
   "metadata": {},
   "source": [
    "### Setup and imports for Linear Regresson"
   ]
  },
  {
   "cell_type": "code",
   "execution_count": 1,
   "id": "a22b56b0",
   "metadata": {},
   "outputs": [],
   "source": [
    "from __future__ import absolute_import, division, print_function, unicode_literals"
   ]
  },
  {
   "cell_type": "code",
   "execution_count": 2,
   "id": "5a1153b3",
   "metadata": {},
   "outputs": [],
   "source": [
    "import numpy as np\n",
    "import pandas as pd\n",
    "import matplotlib.pyplot as plt\n",
    "from IPython.display import clear_output\n",
    "from six.moves import urllib\n",
    "\n",
    "import tensorflow.compat.v2.feature_column as fc\n",
    "\n",
    "import tensorflow as tf"
   ]
  },
  {
   "cell_type": "markdown",
   "id": "7d16fb84",
   "metadata": {},
   "source": [
    "## Data \n",
    "\n",
    "Data used as an example for this Linear Regression model"
   ]
  },
  {
   "cell_type": "code",
   "execution_count": 3,
   "id": "b1f7580c",
   "metadata": {},
   "outputs": [],
   "source": [
    "dftrain = pd.read_csv('https://storage.googleapis.com/tf-datasets/titanic/train.csv') # training data\n",
    "dfeval = pd.read_csv('https://storage.googleapis.com/tf-datasets/titanic/eval.csv') # testing data\n",
    "y_train = dftrain.pop('survived') # Pop takes out the \"survived\" column of the dataset\n",
    "y_eval = dfeval.pop('survived')"
   ]
  },
  {
   "cell_type": "code",
   "execution_count": 4,
   "id": "8e694665",
   "metadata": {},
   "outputs": [
    {
     "data": {
      "text/html": [
       "<div>\n",
       "<style scoped>\n",
       "    .dataframe tbody tr th:only-of-type {\n",
       "        vertical-align: middle;\n",
       "    }\n",
       "\n",
       "    .dataframe tbody tr th {\n",
       "        vertical-align: top;\n",
       "    }\n",
       "\n",
       "    .dataframe thead th {\n",
       "        text-align: right;\n",
       "    }\n",
       "</style>\n",
       "<table border=\"1\" class=\"dataframe\">\n",
       "  <thead>\n",
       "    <tr style=\"text-align: right;\">\n",
       "      <th></th>\n",
       "      <th>sex</th>\n",
       "      <th>age</th>\n",
       "      <th>n_siblings_spouses</th>\n",
       "      <th>parch</th>\n",
       "      <th>fare</th>\n",
       "      <th>class</th>\n",
       "      <th>deck</th>\n",
       "      <th>embark_town</th>\n",
       "      <th>alone</th>\n",
       "    </tr>\n",
       "  </thead>\n",
       "  <tbody>\n",
       "    <tr>\n",
       "      <th>0</th>\n",
       "      <td>male</td>\n",
       "      <td>22.0</td>\n",
       "      <td>1</td>\n",
       "      <td>0</td>\n",
       "      <td>7.2500</td>\n",
       "      <td>Third</td>\n",
       "      <td>unknown</td>\n",
       "      <td>Southampton</td>\n",
       "      <td>n</td>\n",
       "    </tr>\n",
       "    <tr>\n",
       "      <th>1</th>\n",
       "      <td>female</td>\n",
       "      <td>38.0</td>\n",
       "      <td>1</td>\n",
       "      <td>0</td>\n",
       "      <td>71.2833</td>\n",
       "      <td>First</td>\n",
       "      <td>C</td>\n",
       "      <td>Cherbourg</td>\n",
       "      <td>n</td>\n",
       "    </tr>\n",
       "    <tr>\n",
       "      <th>2</th>\n",
       "      <td>female</td>\n",
       "      <td>26.0</td>\n",
       "      <td>0</td>\n",
       "      <td>0</td>\n",
       "      <td>7.9250</td>\n",
       "      <td>Third</td>\n",
       "      <td>unknown</td>\n",
       "      <td>Southampton</td>\n",
       "      <td>y</td>\n",
       "    </tr>\n",
       "    <tr>\n",
       "      <th>3</th>\n",
       "      <td>female</td>\n",
       "      <td>35.0</td>\n",
       "      <td>1</td>\n",
       "      <td>0</td>\n",
       "      <td>53.1000</td>\n",
       "      <td>First</td>\n",
       "      <td>C</td>\n",
       "      <td>Southampton</td>\n",
       "      <td>n</td>\n",
       "    </tr>\n",
       "    <tr>\n",
       "      <th>4</th>\n",
       "      <td>male</td>\n",
       "      <td>28.0</td>\n",
       "      <td>0</td>\n",
       "      <td>0</td>\n",
       "      <td>8.4583</td>\n",
       "      <td>Third</td>\n",
       "      <td>unknown</td>\n",
       "      <td>Queenstown</td>\n",
       "      <td>y</td>\n",
       "    </tr>\n",
       "  </tbody>\n",
       "</table>\n",
       "</div>"
      ],
      "text/plain": [
       "      sex   age  n_siblings_spouses  parch     fare  class     deck  \\\n",
       "0    male  22.0                   1      0   7.2500  Third  unknown   \n",
       "1  female  38.0                   1      0  71.2833  First        C   \n",
       "2  female  26.0                   0      0   7.9250  Third  unknown   \n",
       "3  female  35.0                   1      0  53.1000  First        C   \n",
       "4    male  28.0                   0      0   8.4583  Third  unknown   \n",
       "\n",
       "   embark_town alone  \n",
       "0  Southampton     n  \n",
       "1    Cherbourg     n  \n",
       "2  Southampton     y  \n",
       "3  Southampton     n  \n",
       "4   Queenstown     y  "
      ]
     },
     "execution_count": 4,
     "metadata": {},
     "output_type": "execute_result"
    }
   ],
   "source": [
    "# Shows the first 5 elements of the dataset\n",
    "\n",
    "dftrain.head()"
   ]
  },
  {
   "cell_type": "code",
   "execution_count": 5,
   "id": "206a1c07",
   "metadata": {},
   "outputs": [
    {
     "data": {
      "text/html": [
       "<div>\n",
       "<style scoped>\n",
       "    .dataframe tbody tr th:only-of-type {\n",
       "        vertical-align: middle;\n",
       "    }\n",
       "\n",
       "    .dataframe tbody tr th {\n",
       "        vertical-align: top;\n",
       "    }\n",
       "\n",
       "    .dataframe thead th {\n",
       "        text-align: right;\n",
       "    }\n",
       "</style>\n",
       "<table border=\"1\" class=\"dataframe\">\n",
       "  <thead>\n",
       "    <tr style=\"text-align: right;\">\n",
       "      <th></th>\n",
       "      <th>age</th>\n",
       "      <th>n_siblings_spouses</th>\n",
       "      <th>parch</th>\n",
       "      <th>fare</th>\n",
       "    </tr>\n",
       "  </thead>\n",
       "  <tbody>\n",
       "    <tr>\n",
       "      <th>count</th>\n",
       "      <td>627.000000</td>\n",
       "      <td>627.000000</td>\n",
       "      <td>627.000000</td>\n",
       "      <td>627.000000</td>\n",
       "    </tr>\n",
       "    <tr>\n",
       "      <th>mean</th>\n",
       "      <td>29.631308</td>\n",
       "      <td>0.545455</td>\n",
       "      <td>0.379585</td>\n",
       "      <td>34.385399</td>\n",
       "    </tr>\n",
       "    <tr>\n",
       "      <th>std</th>\n",
       "      <td>12.511818</td>\n",
       "      <td>1.151090</td>\n",
       "      <td>0.792999</td>\n",
       "      <td>54.597730</td>\n",
       "    </tr>\n",
       "    <tr>\n",
       "      <th>min</th>\n",
       "      <td>0.750000</td>\n",
       "      <td>0.000000</td>\n",
       "      <td>0.000000</td>\n",
       "      <td>0.000000</td>\n",
       "    </tr>\n",
       "    <tr>\n",
       "      <th>25%</th>\n",
       "      <td>23.000000</td>\n",
       "      <td>0.000000</td>\n",
       "      <td>0.000000</td>\n",
       "      <td>7.895800</td>\n",
       "    </tr>\n",
       "    <tr>\n",
       "      <th>50%</th>\n",
       "      <td>28.000000</td>\n",
       "      <td>0.000000</td>\n",
       "      <td>0.000000</td>\n",
       "      <td>15.045800</td>\n",
       "    </tr>\n",
       "    <tr>\n",
       "      <th>75%</th>\n",
       "      <td>35.000000</td>\n",
       "      <td>1.000000</td>\n",
       "      <td>0.000000</td>\n",
       "      <td>31.387500</td>\n",
       "    </tr>\n",
       "    <tr>\n",
       "      <th>max</th>\n",
       "      <td>80.000000</td>\n",
       "      <td>8.000000</td>\n",
       "      <td>5.000000</td>\n",
       "      <td>512.329200</td>\n",
       "    </tr>\n",
       "  </tbody>\n",
       "</table>\n",
       "</div>"
      ],
      "text/plain": [
       "              age  n_siblings_spouses       parch        fare\n",
       "count  627.000000          627.000000  627.000000  627.000000\n",
       "mean    29.631308            0.545455    0.379585   34.385399\n",
       "std     12.511818            1.151090    0.792999   54.597730\n",
       "min      0.750000            0.000000    0.000000    0.000000\n",
       "25%     23.000000            0.000000    0.000000    7.895800\n",
       "50%     28.000000            0.000000    0.000000   15.045800\n",
       "75%     35.000000            1.000000    0.000000   31.387500\n",
       "max     80.000000            8.000000    5.000000  512.329200"
      ]
     },
     "execution_count": 5,
     "metadata": {},
     "output_type": "execute_result"
    }
   ],
   "source": [
    "# Statistical analysis of the dataset\n",
    "\n",
    "dftrain.describe()"
   ]
  },
  {
   "cell_type": "code",
   "execution_count": 6,
   "id": "8cb0b50b",
   "metadata": {},
   "outputs": [
    {
     "data": {
      "text/plain": [
       "(627, 9)"
      ]
     },
     "execution_count": 6,
     "metadata": {},
     "output_type": "execute_result"
    }
   ],
   "source": [
    "# The shape of the dataset:\n",
    "\n",
    "dftrain.shape"
   ]
  },
  {
   "cell_type": "code",
   "execution_count": 7,
   "id": "eead1653",
   "metadata": {},
   "outputs": [
    {
     "data": {
      "text/plain": [
       "0    0\n",
       "1    1\n",
       "2    1\n",
       "3    1\n",
       "4    0\n",
       "Name: survived, dtype: int64"
      ]
     },
     "execution_count": 7,
     "metadata": {},
     "output_type": "execute_result"
    }
   ],
   "source": [
    "# Showing the training set\n",
    "y_train.head()"
   ]
  },
  {
   "cell_type": "code",
   "execution_count": 8,
   "id": "1c519472",
   "metadata": {},
   "outputs": [
    {
     "data": {
      "text/plain": [
       "<Axes: >"
      ]
     },
     "execution_count": 8,
     "metadata": {},
     "output_type": "execute_result"
    },
    {
     "data": {
      "image/png": "[encoded data removed]",
      "text/plain": [
       "<Figure size 640x480 with 1 Axes>"
      ]
     },
     "metadata": {},
     "output_type": "display_data"
    }
   ],
   "source": [
    "# Showing the dataspread of the age of passengers\n",
    "\n",
    "dftrain.age.hist(bins=20)\n",
    "\n",
    "#Histogram shows the majority of passangers are between 20 and 30 years old"
   ]
  },
  {
   "cell_type": "code",
   "execution_count": 9,
   "id": "fc061254",
   "metadata": {},
   "outputs": [
    {
     "data": {
      "text/plain": [
       "<Axes: ylabel='sex'>"
      ]
     },
     "execution_count": 9,
     "metadata": {},
     "output_type": "execute_result"
    },
    {
     "data": {
      "image/png": "[encoded data removed]",
      "text/plain": [
       "<Figure size 640x480 with 1 Axes>"
      ]
     },
     "metadata": {},
     "output_type": "display_data"
    }
   ],
   "source": [
    "# Plotting the amount per sex\n",
    "\n",
    "dftrain.sex.value_counts().plot(kind='barh')"
   ]
  },
  {
   "cell_type": "code",
   "execution_count": 10,
   "id": "505b6e75",
   "metadata": {},
   "outputs": [
    {
     "data": {
      "text/plain": [
       "<Axes: ylabel='class'>"
      ]
     },
     "execution_count": 10,
     "metadata": {},
     "output_type": "execute_result"
    },
    {
     "data": {
      "image/png": "[encoded data removed]",
      "text/plain": [
       "<Figure size 640x480 with 1 Axes>"
      ]
     },
     "metadata": {},
     "output_type": "display_data"
    }
   ],
   "source": [
    "# Plotting the amount per class\n",
    "\n",
    "dftrain['class'].value_counts().plot(kind='barh')"
   ]
  },
  {
   "cell_type": "code",
   "execution_count": 11,
   "id": "a27a93e9",
   "metadata": {},
   "outputs": [
    {
     "data": {
      "text/plain": [
       "Text(0.5, 0, '% survive')"
      ]
     },
     "execution_count": 11,
     "metadata": {},
     "output_type": "execute_result"
    },
    {
     "data": {
      "image/png": "[encoded data removed]",
      "text/plain": [
       "<Figure size 640x480 with 1 Axes>"
      ]
     },
     "metadata": {},
     "output_type": "display_data"
    }
   ],
   "source": [
    "# Showing the percentage survival per sex\n",
    "\n",
    "pd.concat([dftrain,y_train],axis=1).groupby('sex').survived.mean().plot(kind='barh').set_xlabel('% survive')"
   ]
  },
  {
   "cell_type": "markdown",
   "id": "5ca8dc29",
   "metadata": {},
   "source": [
    "# Training and Testing Data\n",
    "\n",
    "The training data is what we feed to the model so that it can develop and learn. It is usually a much larger size than the testing data.\n",
    "\n",
    "The testing data is what we use to evaulate the model and see how well it is performing. We must use a seperate set of data that the model has not been trained on to evaluate it.\n",
    "\n",
    "### Feature Columns\n",
    "\n",
    "There are two sets of columns: **Cateforical and Numeric**\n",
    "\n",
    "*Categorical* data is anything that is not numeric (like sex, male/female)\n",
    "Can work around this by encoding a category with an integer"
   ]
  },
  {
   "cell_type": "code",
   "execution_count": 12,
   "id": "4946d578",
   "metadata": {},
   "outputs": [],
   "source": [
    "from tensorflow import keras\n",
    "from tensorflow.keras import layers\n"
   ]
  },
  {
   "cell_type": "code",
   "execution_count": 13,
   "id": "6c58bd03",
   "metadata": {},
   "outputs": [],
   "source": [
    "# One-hot encode categorical variables\n",
    "#Converts categorical columns (like sex, class, etc.) into numeric format using one-hot encoding, which is required for Keras models.\n",
    "dftrain_encoded = pd.get_dummies(dftrain)\n",
    "dfeval_encoded = pd.get_dummies(dfeval)"
   ]
  },
  {
   "cell_type": "code",
   "execution_count": 14,
   "id": "2e4a57db",
   "metadata": {},
   "outputs": [],
   "source": [
    "#Ensures both training and evaluation datasets have the same columns, even if some categories are missing in one of them.\n",
    "# Align columns in case of mismatched categories\n",
    "dftrain_encoded, dfeval_encoded = dftrain_encoded.align(dfeval_encoded, join='left', axis=1, fill_value=0)\n"
   ]
  },
  {
   "cell_type": "code",
   "execution_count": 15,
   "id": "9ce2514c",
   "metadata": {},
   "outputs": [
    {
     "name": "stderr",
     "output_type": "stream",
     "text": [
      "C:\\Users\\mala13511\\AppData\\Roaming\\Python\\Python39\\site-packages\\keras\\src\\layers\\core\\dense.py:93: UserWarning: Do not pass an `input_shape`/`input_dim` argument to a layer. When using Sequential models, prefer using an `Input(shape)` object as the first layer in the model instead.\n",
      "  super().__init__(activity_regularizer=activity_regularizer, **kwargs)\n"
     ]
    }
   ],
   "source": [
    "# Creates a simple linear model with one output neuron and a sigmoid activation (for binary classification).\n",
    "# Build the model\n",
    "model = keras.Sequential([\n",
    "    layers.Dense(1, activation='sigmoid', input_shape=(dftrain_encoded.shape[1],))\n",
    "])\n"
   ]
  },
  {
   "cell_type": "code",
   "execution_count": 16,
   "id": "98ea1829",
   "metadata": {},
   "outputs": [],
   "source": [
    "# Prepares the model for training by specifying the optimizer, loss function, and evaluation metric.\n",
    "# Compile the model\n",
    "model.compile(optimizer='adam',\n",
    "              loss='binary_crossentropy',\n",
    "              metrics=['accuracy'])\n"
   ]
  },
  {
   "cell_type": "code",
   "execution_count": 17,
   "id": "ca6a5bf7",
   "metadata": {},
   "outputs": [
    {
     "name": "stdout",
     "output_type": "stream",
     "text": [
      "Epoch 1/10\n",
      "\u001b[1m20/20\u001b[0m \u001b[32m━━━━━━━━━━━━━━━━━━━━\u001b[0m\u001b[37m\u001b[0m \u001b[1m1s\u001b[0m 2ms/step - accuracy: 0.6731 - loss: 3.4656  \n",
      "Epoch 2/10\n",
      "\u001b[1m20/20\u001b[0m \u001b[32m━━━━━━━━━━━━━━━━━━━━\u001b[0m\u001b[37m\u001b[0m \u001b[1m0s\u001b[0m 2ms/step - accuracy: 0.6940 - loss: 3.2283 \n",
      "Epoch 3/10\n",
      "\u001b[1m20/20\u001b[0m \u001b[32m━━━━━━━━━━━━━━━━━━━━\u001b[0m\u001b[37m\u001b[0m \u001b[1m0s\u001b[0m 3ms/step - accuracy: 0.6586 - loss: 3.0357 \n",
      "Epoch 4/10\n",
      "\u001b[1m20/20\u001b[0m \u001b[32m━━━━━━━━━━━━━━━━━━━━\u001b[0m\u001b[37m\u001b[0m \u001b[1m0s\u001b[0m 3ms/step - accuracy: 0.6660 - loss: 3.2342 \n",
      "Epoch 5/10\n",
      "\u001b[1m20/20\u001b[0m \u001b[32m━━━━━━━━━━━━━━━━━━━━\u001b[0m\u001b[37m\u001b[0m \u001b[1m0s\u001b[0m 3ms/step - accuracy: 0.6833 - loss: 3.1240 \n",
      "Epoch 6/10\n",
      "\u001b[1m20/20\u001b[0m \u001b[32m━━━━━━━━━━━━━━━━━━━━\u001b[0m\u001b[37m\u001b[0m \u001b[1m0s\u001b[0m 3ms/step - accuracy: 0.6681 - loss: 2.6564 \n",
      "Epoch 7/10\n",
      "\u001b[1m20/20\u001b[0m \u001b[32m━━━━━━━━━━━━━━━━━━━━\u001b[0m\u001b[37m\u001b[0m \u001b[1m0s\u001b[0m 2ms/step - accuracy: 0.6775 - loss: 2.5011 \n",
      "Epoch 8/10\n",
      "\u001b[1m20/20\u001b[0m \u001b[32m━━━━━━━━━━━━━━━━━━━━\u001b[0m\u001b[37m\u001b[0m \u001b[1m0s\u001b[0m 3ms/step - accuracy: 0.6824 - loss: 2.3367 \n",
      "Epoch 9/10\n",
      "\u001b[1m20/20\u001b[0m \u001b[32m━━━━━━━━━━━━━━━━━━━━\u001b[0m\u001b[37m\u001b[0m \u001b[1m0s\u001b[0m 2ms/step - accuracy: 0.6692 - loss: 2.3292 \n",
      "Epoch 10/10\n",
      "\u001b[1m20/20\u001b[0m \u001b[32m━━━━━━━━━━━━━━━━━━━━\u001b[0m\u001b[37m\u001b[0m \u001b[1m0s\u001b[0m 3ms/step - accuracy: 0.6515 - loss: 2.4927 \n"
     ]
    },
    {
     "data": {
      "text/plain": [
       "<keras.src.callbacks.history.History at 0x1b259864df0>"
      ]
     },
     "execution_count": 17,
     "metadata": {},
     "output_type": "execute_result"
    }
   ],
   "source": [
    "# Trains the model on the training data for 10 epochs with a batch size of 32.\n",
    "# Train the model\n",
    "model.fit(dftrain_encoded, y_train, epochs=10, batch_size=32)"
   ]
  },
  {
   "cell_type": "markdown",
   "id": "70f06cf0",
   "metadata": {},
   "source": [
    "## Evaluate the model"
   ]
  },
  {
   "cell_type": "code",
   "execution_count": 18,
   "id": "bcae6973",
   "metadata": {},
   "outputs": [
    {
     "name": "stdout",
     "output_type": "stream",
     "text": [
      "\u001b[1m9/9\u001b[0m \u001b[32m━━━━━━━━━━━━━━━━━━━━\u001b[0m\u001b[37m\u001b[0m \u001b[1m0s\u001b[0m 4ms/step - accuracy: 0.6267 - loss: 1.8906  \n",
      "Evaluation accuracy: 0.6932\n"
     ]
    }
   ],
   "source": [
    "# Evaluate the model\n",
    "loss, accuracy = model.evaluate(dfeval_encoded, y_eval)\n",
    "print(f\"Evaluation accuracy: {accuracy:.4f}\")"
   ]
  },
  {
   "cell_type": "markdown",
   "id": "cff5b91c",
   "metadata": {},
   "source": [
    "## Predictions"
   ]
  },
  {
   "cell_type": "code",
   "execution_count": 19,
   "id": "019c6d0a",
   "metadata": {},
   "outputs": [
    {
     "name": "stdout",
     "output_type": "stream",
     "text": [
      "\u001b[1m9/9\u001b[0m \u001b[32m━━━━━━━━━━━━━━━━━━━━\u001b[0m\u001b[37m\u001b[0m \u001b[1m0s\u001b[0m 6ms/step \n",
      "[[2.13272404e-03]\n",
      " [3.97512585e-01]\n",
      " [8.25923751e-04]\n",
      " [1.45440630e-04]\n",
      " [9.69083793e-03]\n",
      " [1.65681019e-01]\n",
      " [9.81475234e-01]\n",
      " [6.54351041e-02]\n",
      " [6.11612916e-01]\n",
      " [6.59648106e-02]\n",
      " [7.20853498e-03]\n",
      " [6.17705695e-02]\n",
      " [9.98976409e-01]\n",
      " [5.10376215e-01]\n",
      " [1.05280932e-02]\n",
      " [9.99819815e-01]\n",
      " [4.25545499e-02]\n",
      " [3.27632844e-01]\n",
      " [2.20436323e-02]\n",
      " [9.44435131e-03]\n",
      " [7.88557753e-02]\n",
      " [3.87754828e-01]\n",
      " [6.08271360e-02]\n",
      " [9.73278598e-04]\n",
      " [1.11247078e-01]\n",
      " [9.99736965e-01]\n",
      " [9.99998868e-01]\n",
      " [9.98083889e-01]\n",
      " [3.97680402e-01]\n",
      " [9.67682451e-02]\n",
      " [1.74917642e-03]\n",
      " [4.95094597e-01]\n",
      " [1.07377104e-01]\n",
      " [1.69139341e-01]\n",
      " [9.95245755e-01]\n",
      " [1.45290243e-02]\n",
      " [9.33625102e-02]\n",
      " [1.73553743e-03]\n",
      " [9.99990880e-01]\n",
      " [7.37631321e-03]\n",
      " [5.71621861e-03]\n",
      " [9.76947010e-01]\n",
      " [5.32754771e-02]\n",
      " [5.64280868e-01]\n",
      " [1.96378841e-03]\n",
      " [9.61754560e-01]\n",
      " [6.35782331e-02]\n",
      " [1.36747619e-03]\n",
      " [9.99930322e-01]\n",
      " [9.96970832e-01]\n",
      " [2.70749978e-03]\n",
      " [3.49225163e-01]\n",
      " [4.49380139e-04]\n",
      " [6.58968711e-05]\n",
      " [1.28830761e-01]\n",
      " [2.52614878e-02]\n",
      " [3.34409997e-02]\n",
      " [9.99978721e-01]\n",
      " [6.80983588e-02]\n",
      " [1.16402069e-02]\n",
      " [9.99998450e-01]\n",
      " [9.99459743e-01]\n",
      " [7.69845769e-02]\n",
      " [9.96812463e-01]\n",
      " [2.34264731e-02]\n",
      " [2.40540393e-02]\n",
      " [9.88164485e-01]\n",
      " [1.88702682e-03]\n",
      " [2.98743515e-04]\n",
      " [4.00722735e-02]\n",
      " [9.99999523e-01]\n",
      " [9.99127269e-01]\n",
      " [7.03472608e-07]\n",
      " [1.03348061e-01]\n",
      " [2.11177371e-03]\n",
      " [1.05073703e-02]\n",
      " [4.99158502e-02]\n",
      " [1.73553743e-03]\n",
      " [3.13744433e-02]\n",
      " [1.00000000e+00]\n",
      " [3.95729952e-02]\n",
      " [5.10376215e-01]\n",
      " [1.56225543e-02]\n",
      " [1.00000000e+00]\n",
      " [2.25380942e-01]\n",
      " [1.00000000e+00]\n",
      " [1.92117300e-02]\n",
      " [1.11735957e-04]\n",
      " [1.84919182e-02]\n",
      " [6.03118958e-03]\n",
      " [9.99971628e-01]\n",
      " [2.86563728e-02]\n",
      " [7.17485547e-01]\n",
      " [1.00000000e+00]\n",
      " [9.97764230e-01]\n",
      " [1.00000000e+00]\n",
      " [9.79751468e-01]\n",
      " [4.33999114e-04]\n",
      " [5.37472852e-02]\n",
      " [9.19706762e-01]\n",
      " [6.06568996e-03]\n",
      " [9.99001265e-01]\n",
      " [1.00000000e+00]\n",
      " [9.94600773e-01]\n",
      " [4.37443033e-02]\n",
      " [1.69085227e-02]\n",
      " [9.80626881e-01]\n",
      " [9.92060065e-01]\n",
      " [7.85437226e-03]\n",
      " [1.05712432e-02]\n",
      " [5.06357364e-02]\n",
      " [8.88875648e-02]\n",
      " [9.63480771e-02]\n",
      " [3.68090768e-05]\n",
      " [9.99999285e-01]\n",
      " [9.87994909e-01]\n",
      " [9.04971082e-03]\n",
      " [6.29595518e-02]\n",
      " [9.94622894e-03]\n",
      " [5.57150662e-01]\n",
      " [9.85633492e-01]\n",
      " [2.08483953e-02]\n",
      " [1.00000000e+00]\n",
      " [9.30348873e-01]\n",
      " [1.68578997e-01]\n",
      " [1.20851304e-02]\n",
      " [1.30572807e-04]\n",
      " [7.06307916e-03]\n",
      " [3.89572873e-04]\n",
      " [2.31540133e-03]\n",
      " [1.17522455e-03]\n",
      " [7.96089992e-02]\n",
      " [4.57152724e-02]\n",
      " [5.08466037e-05]\n",
      " [7.37631321e-03]\n",
      " [5.43737002e-02]\n",
      " [4.50248551e-03]\n",
      " [2.97375713e-02]\n",
      " [9.96437788e-01]\n",
      " [6.48854375e-02]\n",
      " [3.01988795e-02]\n",
      " [6.99879602e-03]\n",
      " [1.00000000e+00]\n",
      " [3.01502526e-01]\n",
      " [5.51356748e-03]\n",
      " [1.20851304e-02]\n",
      " [9.74570960e-02]\n",
      " [2.87323326e-01]\n",
      " [5.13843400e-03]\n",
      " [7.64207856e-04]\n",
      " [5.14372112e-03]\n",
      " [5.64787537e-02]\n",
      " [3.12632978e-01]\n",
      " [1.67358550e-04]\n",
      " [9.99692142e-01]\n",
      " [2.25219652e-02]\n",
      " [3.15401412e-04]\n",
      " [6.05166070e-02]\n",
      " [1.23327188e-02]\n",
      " [5.14372112e-03]\n",
      " [7.20853498e-03]\n",
      " [3.60614300e-01]\n",
      " [9.85389531e-01]\n",
      " [2.68467087e-02]\n",
      " [4.35828930e-03]\n",
      " [1.00000000e+00]\n",
      " [2.13939580e-03]\n",
      " [7.39402464e-03]\n",
      " [9.99999881e-01]\n",
      " [5.17472066e-02]\n",
      " [8.50592971e-01]\n",
      " [1.16402069e-02]\n",
      " [9.86801744e-01]\n",
      " [2.26786127e-04]\n",
      " [7.06307916e-03]\n",
      " [1.16227418e-01]\n",
      " [9.99855876e-01]\n",
      " [3.34813967e-02]\n",
      " [9.49464321e-01]\n",
      " [6.25483990e-02]\n",
      " [3.36871713e-01]\n",
      " [2.18558242e-03]\n",
      " [4.42336768e-01]\n",
      " [9.99985814e-01]\n",
      " [9.99383509e-01]\n",
      " [9.98828933e-02]\n",
      " [4.44855029e-03]\n",
      " [7.34941941e-03]\n",
      " [6.42148331e-02]\n",
      " [1.65293068e-01]\n",
      " [9.99998868e-01]\n",
      " [2.59473221e-04]\n",
      " [9.99982059e-01]\n",
      " [9.98525858e-01]\n",
      " [8.75430487e-07]\n",
      " [2.84340642e-02]\n",
      " [9.42085266e-01]\n",
      " [7.92434532e-03]\n",
      " [9.90278900e-01]\n",
      " [9.99139607e-01]\n",
      " [1.07912496e-02]\n",
      " [1.62626151e-04]\n",
      " [2.26786127e-04]\n",
      " [1.47024490e-04]\n",
      " [1.00000000e+00]\n",
      " [2.94231743e-01]\n",
      " [1.66404191e-02]\n",
      " [9.49367299e-04]\n",
      " [2.36334559e-02]\n",
      " [1.43794154e-04]\n",
      " [1.15778431e-01]\n",
      " [1.26062864e-02]\n",
      " [9.45752785e-02]\n",
      " [7.18654739e-03]\n",
      " [7.26633668e-02]\n",
      " [9.30815116e-02]\n",
      " [7.30227828e-01]\n",
      " [5.58494963e-03]\n",
      " [8.46853673e-01]\n",
      " [3.41110192e-02]\n",
      " [9.99849260e-01]\n",
      " [3.35657643e-03]\n",
      " [9.88281369e-01]\n",
      " [3.22459966e-01]\n",
      " [9.99998987e-01]\n",
      " [1.00000000e+00]\n",
      " [1.85339883e-01]\n",
      " [3.87886609e-03]\n",
      " [4.52284962e-02]\n",
      " [5.13843400e-03]\n",
      " [1.92149030e-03]\n",
      " [7.04153161e-03]\n",
      " [1.00000000e+00]\n",
      " [1.81552604e-01]\n",
      " [2.07776595e-02]\n",
      " [1.16372526e-01]\n",
      " [9.95864630e-01]\n",
      " [8.83323550e-01]\n",
      " [1.19024534e-02]\n",
      " [1.23628892e-01]\n",
      " [9.99287486e-01]\n",
      " [1.96247551e-04]\n",
      " [1.81156400e-04]\n",
      " [2.85855401e-02]\n",
      " [9.99921918e-01]\n",
      " [9.86934185e-01]\n",
      " [9.95684326e-01]\n",
      " [9.98537123e-01]\n",
      " [8.01311582e-02]\n",
      " [1.80742875e-01]\n",
      " [1.19993501e-07]\n",
      " [8.29797268e-01]\n",
      " [2.27973573e-02]\n",
      " [5.14372112e-03]\n",
      " [1.65764287e-01]\n",
      " [6.89245714e-03]\n",
      " [9.99987245e-01]\n",
      " [1.71803627e-02]\n",
      " [9.98859823e-01]\n",
      " [7.68790722e-01]\n",
      " [3.37585784e-03]\n",
      " [2.10038081e-01]\n",
      " [6.80983588e-02]\n",
      " [7.40157366e-01]]\n"
     ]
    }
   ],
   "source": [
    "predictions = model.predict(dfeval_encoded)\n",
    "print(predictions)"
   ]
  },
  {
   "cell_type": "code",
   "execution_count": 20,
   "id": "5cb68b24",
   "metadata": {},
   "outputs": [
    {
     "name": "stdout",
     "output_type": "stream",
     "text": [
      "[[0]\n",
      " [0]\n",
      " [0]\n",
      " [0]\n",
      " [0]\n",
      " [0]\n",
      " [1]\n",
      " [0]\n",
      " [1]\n",
      " [0]\n",
      " [0]\n",
      " [0]\n",
      " [1]\n",
      " [1]\n",
      " [0]\n",
      " [1]\n",
      " [0]\n",
      " [0]\n",
      " [0]\n",
      " [0]\n",
      " [0]\n",
      " [0]\n",
      " [0]\n",
      " [0]\n",
      " [0]\n",
      " [1]\n",
      " [1]\n",
      " [1]\n",
      " [0]\n",
      " [0]\n",
      " [0]\n",
      " [0]\n",
      " [0]\n",
      " [0]\n",
      " [1]\n",
      " [0]\n",
      " [0]\n",
      " [0]\n",
      " [1]\n",
      " [0]\n",
      " [0]\n",
      " [1]\n",
      " [0]\n",
      " [1]\n",
      " [0]\n",
      " [1]\n",
      " [0]\n",
      " [0]\n",
      " [1]\n",
      " [1]\n",
      " [0]\n",
      " [0]\n",
      " [0]\n",
      " [0]\n",
      " [0]\n",
      " [0]\n",
      " [0]\n",
      " [1]\n",
      " [0]\n",
      " [0]\n",
      " [1]\n",
      " [1]\n",
      " [0]\n",
      " [1]\n",
      " [0]\n",
      " [0]\n",
      " [1]\n",
      " [0]\n",
      " [0]\n",
      " [0]\n",
      " [1]\n",
      " [1]\n",
      " [0]\n",
      " [0]\n",
      " [0]\n",
      " [0]\n",
      " [0]\n",
      " [0]\n",
      " [0]\n",
      " [1]\n",
      " [0]\n",
      " [1]\n",
      " [0]\n",
      " [1]\n",
      " [0]\n",
      " [1]\n",
      " [0]\n",
      " [0]\n",
      " [0]\n",
      " [0]\n",
      " [1]\n",
      " [0]\n",
      " [1]\n",
      " [1]\n",
      " [1]\n",
      " [1]\n",
      " [1]\n",
      " [0]\n",
      " [0]\n",
      " [1]\n",
      " [0]\n",
      " [1]\n",
      " [1]\n",
      " [1]\n",
      " [0]\n",
      " [0]\n",
      " [1]\n",
      " [1]\n",
      " [0]\n",
      " [0]\n",
      " [0]\n",
      " [0]\n",
      " [0]\n",
      " [0]\n",
      " [1]\n",
      " [1]\n",
      " [0]\n",
      " [0]\n",
      " [0]\n",
      " [1]\n",
      " [1]\n",
      " [0]\n",
      " [1]\n",
      " [1]\n",
      " [0]\n",
      " [0]\n",
      " [0]\n",
      " [0]\n",
      " [0]\n",
      " [0]\n",
      " [0]\n",
      " [0]\n",
      " [0]\n",
      " [0]\n",
      " [0]\n",
      " [0]\n",
      " [0]\n",
      " [0]\n",
      " [1]\n",
      " [0]\n",
      " [0]\n",
      " [0]\n",
      " [1]\n",
      " [0]\n",
      " [0]\n",
      " [0]\n",
      " [0]\n",
      " [0]\n",
      " [0]\n",
      " [0]\n",
      " [0]\n",
      " [0]\n",
      " [0]\n",
      " [0]\n",
      " [1]\n",
      " [0]\n",
      " [0]\n",
      " [0]\n",
      " [0]\n",
      " [0]\n",
      " [0]\n",
      " [0]\n",
      " [1]\n",
      " [0]\n",
      " [0]\n",
      " [1]\n",
      " [0]\n",
      " [0]\n",
      " [1]\n",
      " [0]\n",
      " [1]\n",
      " [0]\n",
      " [1]\n",
      " [0]\n",
      " [0]\n",
      " [0]\n",
      " [1]\n",
      " [0]\n",
      " [1]\n",
      " [0]\n",
      " [0]\n",
      " [0]\n",
      " [0]\n",
      " [1]\n",
      " [1]\n",
      " [0]\n",
      " [0]\n",
      " [0]\n",
      " [0]\n",
      " [0]\n",
      " [1]\n",
      " [0]\n",
      " [1]\n",
      " [1]\n",
      " [0]\n",
      " [0]\n",
      " [1]\n",
      " [0]\n",
      " [1]\n",
      " [1]\n",
      " [0]\n",
      " [0]\n",
      " [0]\n",
      " [0]\n",
      " [1]\n",
      " [0]\n",
      " [0]\n",
      " [0]\n",
      " [0]\n",
      " [0]\n",
      " [0]\n",
      " [0]\n",
      " [0]\n",
      " [0]\n",
      " [0]\n",
      " [0]\n",
      " [1]\n",
      " [0]\n",
      " [1]\n",
      " [0]\n",
      " [1]\n",
      " [0]\n",
      " [1]\n",
      " [0]\n",
      " [1]\n",
      " [1]\n",
      " [0]\n",
      " [0]\n",
      " [0]\n",
      " [0]\n",
      " [0]\n",
      " [0]\n",
      " [1]\n",
      " [0]\n",
      " [0]\n",
      " [0]\n",
      " [1]\n",
      " [1]\n",
      " [0]\n",
      " [0]\n",
      " [1]\n",
      " [0]\n",
      " [0]\n",
      " [0]\n",
      " [1]\n",
      " [1]\n",
      " [1]\n",
      " [1]\n",
      " [0]\n",
      " [0]\n",
      " [0]\n",
      " [1]\n",
      " [0]\n",
      " [0]\n",
      " [0]\n",
      " [0]\n",
      " [1]\n",
      " [0]\n",
      " [1]\n",
      " [1]\n",
      " [0]\n",
      " [0]\n",
      " [0]\n",
      " [1]]\n"
     ]
    }
   ],
   "source": [
    "# Createing a df of predictions, converting it to a value between 0 and 1\n",
    "prediction_classes =(predictions>0.5).astype(int)\n",
    "print(prediction_classes)"
   ]
  },
  {
   "cell_type": "code",
   "execution_count": 21,
   "id": "ec5c6ad3",
   "metadata": {},
   "outputs": [
    {
     "name": "stdout",
     "output_type": "stream",
     "text": [
      "   Actual  Predicted\n",
      "0       0          0\n",
      "1       0          0\n",
      "2       1          0\n",
      "3       1          0\n",
      "4       1          0\n"
     ]
    }
   ],
   "source": [
    "# Creates a comparison dataframe comparing the actual and predicted values\n",
    "comparison_df = pd.DataFrame({\n",
    "    'Actual': y_eval.values,\n",
    "    'Predicted': prediction_classes.flatten()\n",
    "})\n",
    "print(comparison_df.head())"
   ]
  },
  {
   "cell_type": "markdown",
   "id": "c8542ff3",
   "metadata": {},
   "source": [
    "# Plots:\n",
    "\n",
    "## Confusion Matrix\n",
    "\n"
   ]
  },
  {
   "cell_type": "code",
   "execution_count": 22,
   "id": "80896711",
   "metadata": {},
   "outputs": [],
   "source": [
    "# Imports\n",
    "import matplotlib.pyplot as plt\n",
    "import seaborn as sns\n",
    "from sklearn.metrics import confusion_matrix, roc_curve, auc\n",
    "import numpy as np"
   ]
  },
  {
   "cell_type": "markdown",
   "id": "cfed34f9",
   "metadata": {},
   "source": [
    "## Confusion Matrix\n",
    "\n",
    "Shows how many passengers were correctly or incorrectly classified as survived or not.\n",
    "\n",
    "[True Negative, False Positives\n",
    "\n",
    "False Negatives, True Positives]"
   ]
  },
  {
   "cell_type": "code",
   "execution_count": 23,
   "id": "9dcb4e8c",
   "metadata": {},
   "outputs": [
    {
     "name": "stdout",
     "output_type": "stream",
     "text": [
      "[[133  32]\n",
      " [ 49  50]]\n"
     ]
    }
   ],
   "source": [
    "#Actual labels\n",
    "actual_classes = y_eval.values\n",
    "\n",
    "#Confusion matrix\n",
    "cm = confusion_matrix(actual_classes, prediction_classes)\n",
    "print(cm)"
   ]
  },
  {
   "cell_type": "code",
   "execution_count": 31,
   "id": "401c23b6",
   "metadata": {},
   "outputs": [
    {
     "data": {
      "image/png": "[encoded data removed]",
      "text/plain": [
       "<Figure size 600x500 with 2 Axes>"
      ]
     },
     "metadata": {},
     "output_type": "display_data"
    }
   ],
   "source": [
    "# Shows how many passengers were correctly or incorrectly classified as survived or not.\n",
    "plt.figure(figsize=(6,5))\n",
    "sns.heatmap(cm,annot=True,fmt='d',cmap='Blues',\n",
    "            xticklabels=['Not Survived','Survived'],\n",
    "            yticklabels=['Not Survived','Survived'])\n",
    "plt.xlabel('Predicted')\n",
    "plt.ylabel('Actual')\n",
    "plt.title('Confusion Matrix')\n",
    "plt.show()"
   ]
  },
  {
   "cell_type": "markdown",
   "id": "069f9577",
   "metadata": {},
   "source": [
    "## ROC Curve\n",
    "\n",
    "Visualizes the trade-off between sensitivity and specificity. The AUC (Area Under Curve) gives a single score — closer to 1 is better."
   ]
  },
  {
   "cell_type": "code",
   "execution_count": 32,
   "id": "1970d066",
   "metadata": {},
   "outputs": [
    {
     "data": {
      "image/png": "[encoded data removed]",
      "text/plain": [
       "<Figure size 600x500 with 1 Axes>"
      ]
     },
     "metadata": {},
     "output_type": "display_data"
    }
   ],
   "source": [
    "fpr, tpr, thresholds = roc_curve(actual_classes, predictions)\n",
    "roc_auc = auc(fpr,tpr)\n",
    "\n",
    "plt.figure(figsize=(6,5))\n",
    "plt.plot(fpr, tpr, color='darkorange', lw=2, label=f'ROC curve (AUC = {roc_auc:.2f})')\n",
    "plt.plot([0,1],[0,1], color='navy', lw=2, linestyle='--')\n",
    "plt.xlabel('False Positive Rate')\n",
    "plt.ylabel('True Positive Rate')\n",
    "plt.grid(True)\n",
    "plt.show()"
   ]
  },
  {
   "cell_type": "markdown",
   "id": "7af80e74",
   "metadata": {},
   "source": [
    "### How to read the curve above:\n",
    "\n",
    "-X-axis: False Positive Rate (FPR)\n",
    "\n",
    "    The proportion of actual negatives incorrectly predicted as positive.\n",
    "\n",
    "-Y-axis: True Positive Rate (TPR) (also called Recall)\n",
    "\n",
    "    The proportion of actual positives correctly predicted as positive.\n",
    "\n",
    "The orange curve shows how your model performs at different classification thresholds.\n",
    "\n",
    "The blue dashed diagonal line represents a random guess — a model with no predictive power.\n",
    "\n",
    "The closer the orange curve is to the top-left corner, the better your model is at distinguishing between classes.\n",
    "\n",
    "AUC (Area Under the Curve):\n",
    "\n",
    "    AUC = 1.0 → Perfect model\n",
    "    AUC = 0.5 → No better than random\n",
    "    AUC > 0.7 → Generally considered good"
   ]
  },
  {
   "cell_type": "markdown",
   "id": "68255e00",
   "metadata": {},
   "source": [
    "# Hidden Markov Model\n",
    "\n",
    "The hidden markov model is a **pobabilistic relationship between a sequence of observations and a sequence of hidden states**. \n",
    "\n",
    "The relationship between observations and the hidden states is modeled using a **probability distribution**. \n",
    "\n",
    "There are two probabilities:\n",
    "    -The **transition probabilities** describe the probability of *transitioning* from one hidden state to another\n",
    "    -The **emission probabilities** describe the probability of observing an output given a hidden state\n",
    "\n",
    "Hidden Markov Model  Algorithm\n",
    "The Hidden Markov Model (HMM) algorithm can be implemented using the following steps:\n",
    "\n",
    "*Step 1:* Define the state space and observation space: The state space is the set of all possible hidden states, and the observation space is the set of all possible observations.\n",
    "\n",
    "*Step 2:* Define the initial state distribution: This is the probability distribution over the initial state.\n",
    "\n",
    "*Step 3:* Define the state transition probabilities: These are the probabilities of transitioning from one state to another. This forms the transition matrix, which describes the probability of moving from one state to another.\n",
    "\n",
    "*Step 4:* Define the observation likelihoods: These are the probabilities of generating each observation from each state. This forms the emission matrix, which describes the probability of generating each observation from each state.\n",
    "\n",
    "*Step 5:* Train the model: The parameters of the state transition probabilities and the observation likelihoods are estimated using the Baum-Welch algorithm, or the forward-backward algorithm. This is done by iteratively updating the parameters until convergence.\n",
    "\n",
    "*Step 6:* Decode the most likely sequence of hidden states: Given the observed data, the Viterbi algorithm is used to compute the most likely sequence of hidden states. This can be used to predict future observations, classify sequences, or detect patterns in sequential data.\n",
    "\n",
    "*Step 7:* Evaluate the model: The performance of the HMM can be evaluated using various metrics, such as accuracy, precision, recall, or F1 score.\n",
    "\n",
    "**Summary** - The HMM algorithm involves defining the state space, observation space and the parameters of the state trsnsition probabilities and observation likelihoods, training the model using the Baum-Welch algorithm or the forward-backward algorithm, decoding the most likely spequence of hiden states using the Viterbi algorithm, and evaluting the performance of the model"
   ]
  },
  {
   "cell_type": "code",
   "execution_count": 1,
   "id": "e0ad4217",
   "metadata": {},
   "outputs": [],
   "source": [
    "import numpy as np\n",
    "import matplotlib.pyplot as plt\n",
    "import seaborn as sns\n",
    "from hmmlearn import hmm"
   ]
  },
  {
   "cell_type": "code",
   "execution_count": 8,
   "id": "4fe7e641",
   "metadata": {},
   "outputs": [
    {
     "name": "stdout",
     "output_type": "stream",
     "text": [
      "Number of hidden states: 2\n",
      "Number of observations: 2\n"
     ]
    }
   ],
   "source": [
    "#Define the model parameters\n",
    "#State space is a list of possible weather condition\n",
    "states = [\"Sunny\",\"Rainy\"]\n",
    "n_states = len(states)\n",
    "print(f\"Number of hidden states: {n_states}\")\n",
    "\n",
    "#The observation space is defined as observations which is a list of two possible observations\n",
    "observations = [\"Dry\",\"Wet\"]\n",
    "n_observations = len(observations)\n",
    "print(f\"Number of observations: {n_observations}\")"
   ]
  },
  {
   "cell_type": "code",
   "execution_count": 9,
   "id": "3bbc4b51",
   "metadata": {},
   "outputs": [
    {
     "name": "stdout",
     "output_type": "stream",
     "text": [
      "State probability:  [0.6 0.4]\n",
      "\n",
      "Transition probability:\n",
      " [[0.7 0.3]\n",
      " [0.3 0.7]]\n",
      "\n",
      "Emission probability:\n",
      " [[0.9 0.1]\n",
      " [0.2 0.8]]\n"
     ]
    }
   ],
   "source": [
    "#The State, transition and emission probabilities are defined as numpy arrays. \n",
    "#The state probabilities are the starting probability of each state\n",
    "state_probability = np.array([0.6,0.4])\n",
    "print('State probability: ',state_probability)\n",
    "\n",
    "#The transition probabilities represent the probability of transitioning from one hidden state to another\n",
    "transition_probability = np.array([[0.7, 0.3],\n",
    "                                   [0.3, 0.7]])\n",
    "print(\"\\nTransition probability:\\n\", transition_probability)\n",
    "\n",
    "#The emission probability represents the probability of observing each of rhe outputs given a hidden state\n",
    "emission_probability= np.array([[0.9, 0.1],\n",
    "                                 [0.2, 0.8]])\n",
    "print(\"\\nEmission probability:\\n\", emission_probability)"
   ]
  },
  {
   "cell_type": "code",
   "execution_count": 11,
   "id": "a10ebd3f",
   "metadata": {},
   "outputs": [],
   "source": [
    "#Create an instane of the HMM model and set the model parameters\n",
    "\n",
    "model = hmm.CategoricalHMM(n_components=n_states) \n",
    "model.startprob_ = state_probability\n",
    "model.transmat_= transition_probability\n",
    "model.emissionprob_ = emission_probability"
   ]
  },
  {
   "cell_type": "code",
   "execution_count": 12,
   "id": "c82ca4d9",
   "metadata": {},
   "outputs": [
    {
     "data": {
      "text/plain": [
       "array([[0],\n",
       "       [1],\n",
       "       [0],\n",
       "       [1],\n",
       "       [0],\n",
       "       [0]])"
      ]
     },
     "execution_count": 12,
     "metadata": {},
     "output_type": "execute_result"
    }
   ],
   "source": [
    "#Define an observation sequence\n",
    "\n",
    "observations_sequence = np.array([0, 1, 0, 1, 0, 0]).reshape(-1, 1)\n",
    "observations_sequence"
   ]
  },
  {
   "cell_type": "code",
   "execution_count": 13,
   "id": "6f18f0d5",
   "metadata": {},
   "outputs": [
    {
     "name": "stdout",
     "output_type": "stream",
     "text": [
      "Most likely hidden states:  [0 1 1 1 0 0]\n"
     ]
    }
   ],
   "source": [
    "#Predict the modt likely sequence of hidden states\n",
    "\n",
    "hidden_states = model.predict(observations_sequence)\n",
    "print('Most likely hidden states: ',hidden_states)"
   ]
  },
  {
   "cell_type": "code",
   "execution_count": 15,
   "id": "b6da7751",
   "metadata": {},
   "outputs": [
    {
     "name": "stdout",
     "output_type": "stream",
     "text": [
      "Log Probability : -6.360602626270058\n",
      "Most likely hidden states: [0 1 1 1 0 0]\n"
     ]
    }
   ],
   "source": [
    "#Decoding the observation sequence\n",
    "#The Vetirbi algorithm is used to calculate the most likely sequence of hidden states that generated the observations using the decode method of the model.\n",
    "#The model returns the log probability of the most likely sequence of hidden states and the sequence of hidden states itself\n",
    "\n",
    "log_prob, hidden_states = model.decode(observations_sequence,lengths=len(observations_sequence),algorithm='viterbi')\n",
    "\n",
    "print('Log Probability :',log_prob)\n",
    "print(\"Most likely hidden states:\", hidden_states)"
   ]
  },
  {
   "cell_type": "code",
   "execution_count": 17,
   "id": "6d58a78d",
   "metadata": {},
   "outputs": [
    {
     "data": {
      "image/png": "[encoded data removed]",
      "text/plain": [
       "<Figure size 640x480 with 1 Axes>"
      ]
     },
     "metadata": {},
     "output_type": "display_data"
    }
   ],
   "source": [
    "#Plot the results\n",
    "\n",
    "sns.set_style(\"whitegrid\")\n",
    "plt.plot(hidden_states, '-o', label=\"Hidden State\")\n",
    "plt.xlabel('Time step')\n",
    "plt.ylabel('Most Likely Hidden State')\n",
    "plt.title(\"Sunny or Rainy\")\n",
    "plt.legend()\n",
    "plt.show()\n",
    "\n",
    "#The plot shows that the model predicts that the weather is mostly sunny, with a few rainy days mixed in."
   ]
  },
  {
   "cell_type": "markdown",
   "id": "45a58106",
   "metadata": {},
   "source": [
    "# Speech recognition example using HMM\n",
    "\n",
    "## Problem statement: Given a dataset of audio recordings, the task is to recognize the words spoken in the recordings.\n",
    "\n",
    "In this example, the state space is defined as states, which is a list of 4 possible states representing silence or the presence of one of 3 different words. The observation space is defined as observations, which is a list of 2 possible observations, representing the volume of the speech. The initial state distribution is defined as start_probability, which is an array of probabilities of length 4 representing the probability of each state being the initial state.\n",
    "\n",
    "The state transition probabilities are defined as transition_probability, which is a 4x4 matrix representing the probability of transitioning from one state to another. The observation likelihoods are defined as emission_probability, which is a 4x2 matrix representing the probability of emitting an observation for each state.\n",
    "\n",
    "The model is defined using the MultinomialHMM class from hmmlearn library and is fit using the startprob_, transmat_, and emissionprob_ attributes. The sequence of observations is defined as observations_sequence and is an array of length 8, representing the volume of the speech in 8 different time steps.\n",
    "\n",
    "The predict method of the model object is used to predict the most likely hidden states, given the observations. The result is stored in the hidden_states variable, which is an array of length 8, representing the most likely state for each time step."
   ]
  },
  {
   "cell_type": "code",
   "execution_count": 18,
   "id": "31c02b9e",
   "metadata": {},
   "outputs": [],
   "source": [
    "import numpy as np\n",
    "import matplotlib.pyplot as plt\n",
    "import seaborn as sns\n",
    "from hmmlearn import hmm\n",
    "\n",
    "\n",
    "states = [\"Silence\", \"Word1\", \"Word2\", \"Word3\"]\n",
    "n_states = len(states)\n",
    "\n",
    "observations = [\"Loud\", \"Soft\"]\n",
    "n_observations = len(observations)"
   ]
  },
  {
   "cell_type": "code",
   "execution_count": 19,
   "id": "20ab9df7",
   "metadata": {},
   "outputs": [],
   "source": [
    "start_probability = np.array([0.8, 0.1, 0.1, 0.0])\n",
    "\n",
    "transition_probability = np.array([[0.7, 0.2, 0.1, 0.0],\n",
    "                                    [0.0, 0.6, 0.4, 0.0],\n",
    "                                    [0.0, 0.0, 0.6, 0.4],\n",
    "                                    [0.0, 0.0, 0.0, 1.0]])\n",
    "\n",
    "emission_probability = np.array([[0.7, 0.3],\n",
    "                                  [0.4, 0.6],\n",
    "                                  [0.6, 0.4],\n",
    "                                  [0.3, 0.7]])"
   ]
  },
  {
   "cell_type": "code",
   "execution_count": 20,
   "id": "6be26dd7",
   "metadata": {},
   "outputs": [],
   "source": [
    "model = hmm.CategoricalHMM(n_components=n_states)\n",
    "model.startprob_ = start_probability\n",
    "model.transmat_ = transition_probability\n",
    "model.emissionprob_ = emission_probability"
   ]
  },
  {
   "cell_type": "code",
   "execution_count": 21,
   "id": "1082ec8c",
   "metadata": {},
   "outputs": [],
   "source": [
    "observations_sequence = np.array([0, 1, 0, 0, 1, 1, 0, 1]).reshape(-1, 1)"
   ]
  },
  {
   "cell_type": "code",
   "execution_count": null,
   "id": "787c62bf",
   "metadata": {},
   "outputs": [],
   "source": [
    "hidden_states = model.predict(observations_sequence)\n",
    "print(\"Most likely hidden states:\", hidden_states)"
   ]
  },
  {
   "cell_type": "code",
   "execution_count": 22,
   "id": "5dadae2b",
   "metadata": {},
   "outputs": [
    {
     "data": {
      "image/png": "[encoded data removed]",
      "text/plain": [
       "<Figure size 640x480 with 1 Axes>"
      ]
     },
     "metadata": {},
     "output_type": "display_data"
    }
   ],
   "source": [
    "sns.set_style(\"darkgrid\")\n",
    "plt.plot(hidden_states, '-o', label=\"Hidden State\")\n",
    "plt.legend()\n",
    "plt.show()"
   ]
  },
  {
   "cell_type": "markdown",
   "id": "b0f3f361",
   "metadata": {},
   "source": []
  },
  {
   "cell_type": "markdown",
   "id": "8945228e",
   "metadata": {},
   "source": [
    "#"
   ]
  },
  {
   "cell_type": "markdown",
   "id": "e64f4661",
   "metadata": {},
   "source": []
  },
  {
   "cell_type": "markdown",
   "id": "8ffded37",
   "metadata": {},
   "source": []
  },
  {
   "cell_type": "markdown",
   "id": "59f86486",
   "metadata": {},
   "source": []
  },
  {
   "cell_type": "markdown",
   "id": "27ed183e",
   "metadata": {},
   "source": []
  },
  {
   "cell_type": "markdown",
   "id": "75461286",
   "metadata": {},
   "source": []
  },
  {
   "cell_type": "markdown",
   "id": "fd1e976c",
   "metadata": {},
   "source": []
  },
  {
   "cell_type": "markdown",
   "id": "e47aa2ab",
   "metadata": {},
   "source": []
  },
  {
   "cell_type": "markdown",
   "id": "3c2df3ab",
   "metadata": {},
   "source": []
  },
  {
   "cell_type": "markdown",
   "id": "50354653",
   "metadata": {},
   "source": []
  },
  {
   "cell_type": "markdown",
   "id": "0835e847",
   "metadata": {},
   "source": []
  },
  {
   "cell_type": "markdown",
   "id": "0419db3c",
   "metadata": {},
   "source": []
  },
  {
   "cell_type": "markdown",
   "id": "15245ee3",
   "metadata": {},
   "source": []
  },
  {
   "cell_type": "markdown",
   "id": "eb80a3b0",
   "metadata": {},
   "source": []
  },
  {
   "cell_type": "markdown",
   "id": "4a147763",
   "metadata": {},
   "source": []
  },
  {
   "cell_type": "markdown",
   "id": "f822cb83",
   "metadata": {},
   "source": []
  },
  {
   "cell_type": "markdown",
   "id": "cbedb18b",
   "metadata": {},
   "source": []
  },
  {
   "cell_type": "markdown",
   "id": "cd0d505e",
   "metadata": {},
   "source": []
  },
  {
   "cell_type": "markdown",
   "id": "53105287",
   "metadata": {},
   "source": []
  },
  {
   "cell_type": "markdown",
   "id": "cb7007cc",
   "metadata": {},
   "source": []
  },
  {
   "cell_type": "markdown",
   "id": "e8d1f32e",
   "metadata": {},
   "source": []
  },
  {
   "cell_type": "markdown",
   "id": "cfaab604",
   "metadata": {},
   "source": []
  }
 ],
 "metadata": {
  "kernelspec": {
   "display_name": "Python 3",
   "language": "python",
   "name": "python3"
  },
  "language_info": {
   "codemirror_mode": {
    "name": "ipython",
    "version": 3
   },
   "file_extension": ".py",
   "mimetype": "text/x-python",
   "name": "python",
   "nbconvert_exporter": "python",
   "pygments_lexer": "ipython3",
   "version": "3.9.6"
  }
 },
 "nbformat": 4,
 "nbformat_minor": 5
}
